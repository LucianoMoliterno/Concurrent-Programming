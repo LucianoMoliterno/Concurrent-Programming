{
 "cells": [
  {
   "cell_type": "markdown",
   "metadata": {},
   "source": [
    "# Timeout "
   ]
  },
  {
   "cell_type": "code",
   "execution_count": 5,
   "metadata": {},
   "outputs": [],
   "source": [
    "import threading\n",
    "import requests\n",
    "import time"
   ]
  },
  {
   "cell_type": "code",
   "execution_count": 2,
   "metadata": {},
   "outputs": [],
   "source": [
    "class MyThread(threading.Thread):\n",
    "    def __init__(self, url):\n",
    "        threading.Thread.__init__(self)\n",
    "        self.url = url\n",
    "        self.result = None\n",
    "\n",
    "    def run(self):\n",
    "        res = requests.get(self.url)\n",
    "        self.result = f'{self.url}: {res.text}'"
   ]
  },
  {
   "cell_type": "code",
   "execution_count": 3,
   "metadata": {},
   "outputs": [],
   "source": [
    "urls = [\n",
    "    'http://httpstat.us/200',\n",
    "    'http://httpstat.us/200?sleep=20000',\n",
    "    'http://httpstat.us/400'\n",
    "]"
   ]
  },
  {
   "cell_type": "code",
   "execution_count": 4,
   "metadata": {},
   "outputs": [
    {
     "name": "stdout",
     "output_type": "stream",
     "text": [
      "http://httpstat.us/200: 200 OK\n",
      "http://httpstat.us/200?sleep=20000: 200 OK\n",
      "http://httpstat.us/400: 400 Bad Request\n"
     ]
    }
   ],
   "source": [
    "threads = [MyThread(url) for url in urls]\n",
    "for thread in threads:\n",
    "    thread.start()\n",
    "for thread in threads:\n",
    "    thread.join()\n",
    "for thread in threads:\n",
    "    print(thread.result)"
   ]
  },
  {
   "cell_type": "code",
   "execution_count": 6,
   "metadata": {},
   "outputs": [],
   "source": [
    "UPDATE_INTERVAL = 0.01"
   ]
  },
  {
   "cell_type": "code",
   "execution_count": 7,
   "metadata": {},
   "outputs": [],
   "source": [
    "def process_requests(threads, timeout=5):\n",
    "    def alive_count():\n",
    "        alive = [1 if thread.isAlive() else 0 for thread in threads]\n",
    "        return sum(alive)\n",
    "\n",
    "    while alive_count() > 0 and timeout > 0:\n",
    "        timeout -= UPDATE_INTERVAL\n",
    "        time.sleep(UPDATE_INTERVAL)\n",
    "    for thread in threads:\n",
    "        print(thread.result)"
   ]
  },
  {
   "cell_type": "code",
   "execution_count": 11,
   "metadata": {},
   "outputs": [],
   "source": [
    "class MyThread01(threading.Thread):\n",
    "    def __init__(self, url):\n",
    "        threading.Thread.__init__(self)\n",
    "        self.url = url\n",
    "        self.result = f'{self.url}: Custom timeout'\n",
    "\n",
    "    def run(self):\n",
    "        res = requests.get(self.url)\n",
    "        self.result = f'{self.url}: {res.text}'"
   ]
  },
  {
   "cell_type": "code",
   "execution_count": 12,
   "metadata": {},
   "outputs": [],
   "source": [
    "urls = [\n",
    "    'http://httpstat.us/200',\n",
    "    'http://httpstat.us/200?sleep=4000',\n",
    "    'http://httpstat.us/200?sleep=20000',\n",
    "    'http://httpstat.us/400'\n",
    "]"
   ]
  },
  {
   "cell_type": "code",
   "execution_count": 13,
   "metadata": {},
   "outputs": [
    {
     "name": "stdout",
     "output_type": "stream",
     "text": [
      "http://httpstat.us/200: 200 OK\n",
      "http://httpstat.us/200?sleep=4000: 200 OK\n",
      "http://httpstat.us/200?sleep=20000: Custom timeout\n",
      "http://httpstat.us/400: 400 Bad Request\n",
      "Took  7.77 seconds\n"
     ]
    }
   ],
   "source": [
    "start = time.time()\n",
    "\n",
    "threads = [MyThread01(url) for url in urls]\n",
    "for thread in threads:\n",
    "    thread.setDaemon(True)\n",
    "    thread.start()\n",
    "process_requests(threads)\n",
    "\n",
    "print(f'Took {time.time() - start : .2f} seconds')"
   ]
  },
  {
   "cell_type": "code",
   "execution_count": null,
   "metadata": {},
   "outputs": [],
   "source": []
  }
 ],
 "metadata": {
  "kernelspec": {
   "display_name": "Python 3.7.3 64-bit ('austral': conda)",
   "language": "python",
   "name": "python37364bitaustralconda150e222f1b634d60a956e102dfbc2d5f"
  },
  "language_info": {
   "codemirror_mode": {
    "name": "ipython",
    "version": 3
   },
   "file_extension": ".py",
   "mimetype": "text/x-python",
   "name": "python",
   "nbconvert_exporter": "python",
   "pygments_lexer": "ipython3",
   "version": "3.7.3"
  }
 },
 "nbformat": 4,
 "nbformat_minor": 4
}
