{
 "cells": [
  {
   "cell_type": "markdown",
   "metadata": {},
   "source": [
    "# Thread"
   ]
  },
  {
   "cell_type": "markdown",
   "metadata": {},
   "source": [
    "Ejemplos extraidos y modificados de Mastering concurrency en Python"
   ]
  },
  {
   "cell_type": "markdown",
   "metadata": {},
   "source": [
    "____________________________________"
   ]
  },
  {
   "cell_type": "markdown",
   "metadata": {},
   "source": [
    "El ***subproceso de ejecución*** (thread) es la ***unidad más pequeña de comandos de programación*** (código) que un planificador (generalmente como parte de un sistema operativo) puede procesar y administrar."
   ]
  },
  {
   "cell_type": "markdown",
   "metadata": {},
   "source": [
    "Un proceso puede incluir múltiples hilos, que pueden ejecutarse simultáneamente"
   ]
  },
  {
   "cell_type": "code",
   "execution_count": 6,
   "metadata": {},
   "outputs": [],
   "source": [
    "import threading\n",
    "import time"
   ]
  },
  {
   "cell_type": "code",
   "execution_count": 7,
   "metadata": {},
   "outputs": [],
   "source": [
    "class MyThread(threading.Thread):\n",
    "    def __init__(self, name, delay):\n",
    "        threading.Thread.__init__(self)\n",
    "        self.name = name\n",
    "        self.delay = delay\n",
    "\n",
    "    def run(self):\n",
    "        print('Starting thread %s.' % self.name)\n",
    "        thread_count_down(self.name, self.delay)\n",
    "        print('Finished thread %s.' % self.name)\n",
    "\n",
    "def thread_count_down(name, delay):\n",
    "    counter = 5\n",
    "\n",
    "    while counter:\n",
    "        time.sleep(delay)\n",
    "        print('Thread %s counting down: %i...' % (name, counter))\n",
    "        counter -= 1"
   ]
  },
  {
   "cell_type": "code",
   "execution_count": 9,
   "metadata": {},
   "outputs": [
    {
     "name": "stdout",
     "output_type": "stream",
     "text": [
      "Starting thread A.\n",
      "Starting thread B.\n",
      "Thread A counting down: 5...\n",
      "Thread B counting down: 5...\n",
      "Thread A counting down: 4...\n",
      "Thread B counting down: 4...\n",
      "Thread A counting down: 3...\n",
      "Thread B counting down: 3...\n",
      "Thread A counting down: 2...\n",
      "Thread B counting down: 2...\n",
      "Thread A counting down: 1...\n",
      "Finished thread A.\n",
      "Thread B counting down: 1...\n",
      "Finished thread B.\n",
      "Finished.\n"
     ]
    }
   ],
   "source": [
    "thread1 = MyThread('A', 0.5)\n",
    "thread2 = MyThread('B', 0.5)\n",
    "\n",
    "thread1.start()\n",
    "thread2.start()\n",
    "\n",
    "thread1.join()\n",
    "thread2.join()\n",
    "\n",
    "print('Finished.')"
   ]
  },
  {
   "cell_type": "markdown",
   "metadata": {},
   "source": [
    "____________________________________________"
   ]
  },
  {
   "cell_type": "markdown",
   "metadata": {},
   "source": [
    "Modo de creacion de tareas con el modulo ***Thread***"
   ]
  },
  {
   "cell_type": "code",
   "execution_count": 10,
   "metadata": {},
   "outputs": [],
   "source": [
    "import _thread as thread\n",
    "from math import sqrt"
   ]
  },
  {
   "cell_type": "code",
   "execution_count": 11,
   "metadata": {},
   "outputs": [],
   "source": [
    "def is_prime(x):\n",
    "    if x < 2:\n",
    "        print('%i is not a prime number.' % x)\n",
    "\n",
    "    elif x == 2:\n",
    "        print('%i is a prime number.' % x)\n",
    "\n",
    "    elif x % 2 == 0:\n",
    "        print('%i is not a prime number.' % x)\n",
    "\n",
    "    else:\n",
    "        limit = int(sqrt(x)) + 1\n",
    "        for i in range(3, limit, 2):\n",
    "            if x % i == 0:\n",
    "                print('%i is not a prime number.' % x)\n",
    "                return\n",
    "\n",
    "        print('%i is a prime number.' % x)"
   ]
  },
  {
   "cell_type": "code",
   "execution_count": 16,
   "metadata": {},
   "outputs": [],
   "source": [
    "my_input = [433785907, 193, 323, 1327, 23234454, 543678, 2324567, 3, 4, 2]"
   ]
  },
  {
   "cell_type": "code",
   "execution_count": 17,
   "metadata": {},
   "outputs": [
    {
     "name": "stdout",
     "output_type": "stream",
     "text": [
      "433785907 is a prime number.\n",
      "23234454 is not a prime number.\n",
      "193 is a prime number.\n",
      "2 is a prime number.\n",
      "2324567 is not a prime number.\n",
      "323 is not a prime number.\n",
      "3 is a prime number.\n",
      "4 is not a prime number.\n",
      "543678 is not a prime number.\n",
      "1327 is a prime number.\n"
     ]
    }
   ],
   "source": [
    "for x in my_input:\n",
    "    thread.start_new_thread(is_prime, (x, ))"
   ]
  },
  {
   "cell_type": "markdown",
   "metadata": {},
   "source": [
    "____________________________________________"
   ]
  },
  {
   "cell_type": "markdown",
   "metadata": {},
   "source": [
    "Modo de creacion de tareas con el modulo ***Threading***"
   ]
  },
  {
   "cell_type": "code",
   "execution_count": 18,
   "metadata": {},
   "outputs": [],
   "source": [
    "import threading\n",
    "from math import sqrt"
   ]
  },
  {
   "cell_type": "code",
   "execution_count": 19,
   "metadata": {},
   "outputs": [],
   "source": [
    "def is_prime(x):\n",
    "    if x < 2:\n",
    "        print('%i is not a prime number.' % x)\n",
    "\n",
    "    elif x == 2:\n",
    "        print('%i is a prime number.' % x)\n",
    "\n",
    "    elif x % 2 == 0:\n",
    "        print('%i is not a prime number.' % x)\n",
    "\n",
    "    else:\n",
    "        limit = int(sqrt(x)) + 1\n",
    "        for i in range(3, limit, 2):\n",
    "            if x % i == 0:\n",
    "                print('%i is not a prime number.' % x)\n",
    "                return\n",
    "\n",
    "        print('%i is a prime number.' % x)\n",
    "\n",
    "class MyThread(threading.Thread):\n",
    "    def __init__(self, x):\n",
    "        threading.Thread.__init__(self)\n",
    "        self.x = x\n",
    "\n",
    "    def run(self):\n",
    "        print('Starting processing %i...' % x)\n",
    "        is_prime(self.x)"
   ]
  },
  {
   "cell_type": "code",
   "execution_count": 20,
   "metadata": {},
   "outputs": [],
   "source": [
    "my_input = [433785907, 193, 323, 1327, 23234454, 543678, 2324567, 3, 4, 2]"
   ]
  },
  {
   "cell_type": "code",
   "execution_count": 21,
   "metadata": {},
   "outputs": [],
   "source": [
    "threads = []"
   ]
  },
  {
   "cell_type": "code",
   "execution_count": 22,
   "metadata": {},
   "outputs": [
    {
     "name": "stdout",
     "output_type": "stream",
     "text": [
      "Starting processing 433785907...\n",
      "433785907 is a prime number.\n",
      "Starting processing 193...\n",
      "193 is a prime number.\n",
      "Starting processing 323...\n",
      "323 is not a prime number.\n",
      "Starting processing 1327...\n",
      "1327 is a prime number.\n",
      "Starting processing 23234454...\n",
      "23234454 is not a prime number.\n",
      "Starting processing 543678...\n",
      "543678 is not a prime number.\n",
      "Starting processing 2324567...\n",
      "2324567 is not a prime number.\n",
      "Starting processing 3...\n",
      "3 is a prime number.\n",
      "Starting processing 4...\n",
      "4 is not a prime number.\n",
      "Starting processing 2...\n",
      "2 is a prime number.\n"
     ]
    }
   ],
   "source": [
    "for x in my_input:\n",
    "    temp_thread = MyThread(x)\n",
    "    temp_thread.start()\n",
    "\n",
    "    threads.append(temp_thread)\n",
    "\n",
    "for thread in threads:\n",
    "    thread.join()"
   ]
  },
  {
   "cell_type": "markdown",
   "metadata": {},
   "source": [
    "_______________________________________"
   ]
  },
  {
   "cell_type": "markdown",
   "metadata": {},
   "source": [
    "Sincronizacion de tareas"
   ]
  },
  {
   "cell_type": "code",
   "execution_count": 23,
   "metadata": {},
   "outputs": [],
   "source": [
    "import threading\n",
    "import time"
   ]
  },
  {
   "cell_type": "code",
   "execution_count": 24,
   "metadata": {},
   "outputs": [],
   "source": [
    "class MyThread(threading.Thread):\n",
    "    def __init__(self, name, delay):\n",
    "        threading.Thread.__init__(self)\n",
    "        self.name = name\n",
    "        self.delay = delay\n",
    "\n",
    "    def run(self):\n",
    "        print('Starting thread %s.' % self.name)\n",
    "        thread_lock.acquire()\n",
    "        thread_count_down(self.name, self.delay)\n",
    "        thread_lock.release()\n",
    "        print('Finished thread %s.' % self.name)"
   ]
  },
  {
   "cell_type": "code",
   "execution_count": 25,
   "metadata": {},
   "outputs": [],
   "source": [
    "def thread_count_down(name, delay):\n",
    "    counter = 5\n",
    "\n",
    "    while counter:\n",
    "        time.sleep(delay)\n",
    "        print('Thread %s counting down: %i...' % (name, counter))\n",
    "        counter -= 1"
   ]
  },
  {
   "cell_type": "code",
   "execution_count": 26,
   "metadata": {},
   "outputs": [],
   "source": [
    "thread_lock = threading.Lock()"
   ]
  },
  {
   "cell_type": "code",
   "execution_count": 27,
   "metadata": {},
   "outputs": [],
   "source": [
    "thread1 = MyThread('A', 0.5)\n",
    "thread2 = MyThread('B', 0.5)"
   ]
  },
  {
   "cell_type": "code",
   "execution_count": 28,
   "metadata": {},
   "outputs": [
    {
     "name": "stdout",
     "output_type": "stream",
     "text": [
      "Starting thread A.\n",
      "Starting thread B.\n",
      "Thread A counting down: 5...\n",
      "Thread A counting down: 4...\n",
      "Thread A counting down: 3...\n",
      "Thread A counting down: 2...\n",
      "Thread A counting down: 1...\n",
      "Finished thread A.\n",
      "Thread B counting down: 5...\n",
      "Thread B counting down: 4...\n",
      "Thread B counting down: 3...\n",
      "Thread B counting down: 2...\n",
      "Thread B counting down: 1...\n",
      "Finished thread B.\n"
     ]
    }
   ],
   "source": [
    "thread1.start()\n",
    "thread2.start()\n",
    "\n",
    "thread1.join()\n",
    "thread2.join()"
   ]
  },
  {
   "cell_type": "markdown",
   "metadata": {},
   "source": [
    "__________________________"
   ]
  },
  {
   "cell_type": "markdown",
   "metadata": {},
   "source": [
    "Cola de tareas"
   ]
  },
  {
   "cell_type": "code",
   "execution_count": 58,
   "metadata": {},
   "outputs": [],
   "source": [
    "import queue\n",
    "import threading\n",
    "import time"
   ]
  },
  {
   "cell_type": "code",
   "execution_count": 59,
   "metadata": {},
   "outputs": [],
   "source": [
    "class MyThread(threading.Thread):\n",
    "    def __init__(self, name):\n",
    "        threading.Thread.__init__(self)\n",
    "        self.name = name\n",
    "\n",
    "    def run(self):\n",
    "        print('Starting thread %s.' % self.name)\n",
    "        process_queue()\n",
    "        print('Exiting thread %s.' % self.name)"
   ]
  },
  {
   "cell_type": "code",
   "execution_count": 60,
   "metadata": {},
   "outputs": [],
   "source": [
    "def process_queue():\n",
    "    while True:\n",
    "        try:\n",
    "            x = my_queue.get(block=False)\n",
    "        except queue.Empty:\n",
    "            return\n",
    "        else:\n",
    "            print_factors(x)\n",
    "\n",
    "        time.sleep(1)"
   ]
  },
  {
   "cell_type": "code",
   "execution_count": 61,
   "metadata": {},
   "outputs": [],
   "source": [
    "def print_factors(x):\n",
    "    result_string = 'Positive factors of %i are: ' % x\n",
    "    for i in range(1, x + 1):\n",
    "        if x % i == 0:\n",
    "            result_string += str(i) + ' '\n",
    "    result_string += '\\n' + '_' * 20\n",
    "\n",
    "    print(result_string)"
   ]
  },
  {
   "cell_type": "code",
   "execution_count": 62,
   "metadata": {},
   "outputs": [],
   "source": [
    "input_ = [1, 10, 4, 3]"
   ]
  },
  {
   "cell_type": "code",
   "execution_count": 63,
   "metadata": {},
   "outputs": [],
   "source": [
    "my_queue = queue.Queue()"
   ]
  },
  {
   "cell_type": "code",
   "execution_count": 64,
   "metadata": {},
   "outputs": [],
   "source": [
    "for x in input_:\n",
    "    my_queue.put(x)"
   ]
  },
  {
   "cell_type": "code",
   "execution_count": 65,
   "metadata": {},
   "outputs": [],
   "source": [
    "thread1 = MyThread('A')\n",
    "thread2 = MyThread('B')\n",
    "thread3 = MyThread('C')"
   ]
  },
  {
   "cell_type": "code",
   "execution_count": 66,
   "metadata": {},
   "outputs": [
    {
     "name": "stdout",
     "output_type": "stream",
     "text": [
      "Starting thread A.\n",
      "Positive factors of 1 are: 1 \n",
      "____________________\n",
      "Starting thread B.\n",
      "Positive factors of 10 are: 1 2 5 10 \n",
      "____________________\n",
      "Starting thread C.\n",
      "Positive factors of 4 are: 1 2 4 \n",
      "____________________\n",
      "Positive factors of 3 are: 1 3 \n",
      "____________________\n",
      "Exiting thread B.\n",
      "Exiting thread C.\n",
      "Exiting thread A.\n"
     ]
    }
   ],
   "source": [
    "thread1.start()\n",
    "thread2.start()\n",
    "thread3.start()\n",
    "\n",
    "thread1.join()\n",
    "thread2.join()\n",
    "thread3.join()"
   ]
  },
  {
   "cell_type": "markdown",
   "metadata": {},
   "source": [
    "_______________________"
   ]
  }
 ],
 "metadata": {
  "kernelspec": {
   "display_name": "Python 3.7.3 64-bit ('austral': conda)",
   "language": "python",
   "name": "python37364bitaustralconda150e222f1b634d60a956e102dfbc2d5f"
  },
  "language_info": {
   "codemirror_mode": {
    "name": "ipython",
    "version": 3
   },
   "file_extension": ".py",
   "mimetype": "text/x-python",
   "name": "python",
   "nbconvert_exporter": "python",
   "pygments_lexer": "ipython3",
   "version": "3.7.3"
  }
 },
 "nbformat": 4,
 "nbformat_minor": 4
}
