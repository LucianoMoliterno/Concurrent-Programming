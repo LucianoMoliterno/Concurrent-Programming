{
 "cells": [
  {
   "cell_type": "markdown",
   "metadata": {},
   "source": [
    "# Threading & queue"
   ]
  },
  {
   "cell_type": "code",
   "execution_count": 11,
   "metadata": {},
   "outputs": [],
   "source": [
    "import queue\n",
    "import threading\n",
    "import time"
   ]
  },
  {
   "cell_type": "code",
   "execution_count": 12,
   "metadata": {},
   "outputs": [],
   "source": [
    "class MyThread(threading.Thread):\n",
    "    def __init__(self, name):\n",
    "        threading.Thread.__init__(self)\n",
    "        self.name = name\n",
    "\n",
    "    def run(self):\n",
    "        print('Starting thread %s.' % self.name)\n",
    "        process_queue()\n",
    "        print('Exiting thread %s.' % self.name)"
   ]
  },
  {
   "cell_type": "code",
   "execution_count": 13,
   "metadata": {},
   "outputs": [],
   "source": [
    "def process_queue():\n",
    "    while True:\n",
    "        try:\n",
    "            x = my_queue.get(block=False)\n",
    "        except queue.Empty:\n",
    "            return\n",
    "        else:\n",
    "            print_factors(x)\n",
    "\n",
    "        time.sleep(1)"
   ]
  },
  {
   "cell_type": "code",
   "execution_count": 14,
   "metadata": {},
   "outputs": [],
   "source": [
    "def print_factors(x):\n",
    "    result_string = 'Positive factors of %i are: ' % x\n",
    "    for i in range(1, x + 1):\n",
    "        if x % i == 0:\n",
    "            result_string += str(i) + ' '\n",
    "    result_string += '\\n' + '_' * 20\n",
    "\n",
    "    print(result_string)"
   ]
  },
  {
   "cell_type": "code",
   "execution_count": 15,
   "metadata": {},
   "outputs": [],
   "source": [
    "input_ = [1, 10, 4, 3]"
   ]
  },
  {
   "cell_type": "code",
   "execution_count": 16,
   "metadata": {},
   "outputs": [],
   "source": [
    "my_queue = queue.Queue()\n",
    "for x in input_:\n",
    "    my_queue.put(x)"
   ]
  },
  {
   "cell_type": "code",
   "execution_count": 17,
   "metadata": {},
   "outputs": [],
   "source": [
    "thread1 = MyThread('A')\n",
    "thread2 = MyThread('B')\n",
    "thread3 = MyThread('C')"
   ]
  },
  {
   "cell_type": "code",
   "execution_count": 18,
   "metadata": {},
   "outputs": [
    {
     "name": "stdout",
     "output_type": "stream",
     "text": [
      "Starting thread A.\n",
      "Positive factors of 1 are: 1 \n",
      "____________________\n",
      "Starting thread B.\n",
      "Positive factors of 10 are: 1 2 5 10 \n",
      "____________________\n",
      "Starting thread C.\n",
      "Positive factors of 4 are: 1 2 4 \n",
      "____________________\n",
      "Positive factors of 3 are: 1 3 \n",
      "____________________\n",
      "Exiting thread B.\n",
      "Exiting thread C.\n",
      "Exiting thread A.\n"
     ]
    }
   ],
   "source": [
    "thread1.start()\n",
    "thread2.start()\n",
    "thread3.start()\n",
    "\n",
    "thread1.join()\n",
    "thread2.join()\n",
    "thread3.join()"
   ]
  },
  {
   "cell_type": "markdown",
   "metadata": {},
   "source": [
    "____________________________"
   ]
  },
  {
   "cell_type": "markdown",
   "metadata": {},
   "source": [
    "# Lock"
   ]
  },
  {
   "cell_type": "code",
   "execution_count": 1,
   "metadata": {},
   "outputs": [],
   "source": [
    "from threading import Lock"
   ]
  },
  {
   "cell_type": "code",
   "execution_count": 2,
   "metadata": {},
   "outputs": [],
   "source": [
    "my_lock = Lock()"
   ]
  },
  {
   "cell_type": "code",
   "execution_count": 3,
   "metadata": {},
   "outputs": [],
   "source": [
    "def get_data_from_file(filename):\n",
    "    my_lock.acquire()\n",
    "\n",
    "    with open(filename, 'r') as f:\n",
    "        data.append(f.read())\n",
    "\n",
    "    my_lock.release()"
   ]
  },
  {
   "cell_type": "code",
   "execution_count": 4,
   "metadata": {},
   "outputs": [],
   "source": [
    "data = []"
   ]
  },
  {
   "cell_type": "code",
   "execution_count": 5,
   "metadata": {},
   "outputs": [],
   "source": [
    "try:\n",
    "    get_data_from_file('./test.txt')\n",
    "except FileNotFoundError:\n",
    "    print('Encountered an exception...')"
   ]
  },
  {
   "cell_type": "markdown",
   "metadata": {},
   "source": [
    "______________________________"
   ]
  },
  {
   "cell_type": "code",
   "execution_count": 30,
   "metadata": {},
   "outputs": [],
   "source": [
    "import requests"
   ]
  },
  {
   "cell_type": "code",
   "execution_count": 31,
   "metadata": {},
   "outputs": [],
   "source": [
    "url = 'http://www.google.com'"
   ]
  },
  {
   "cell_type": "code",
   "execution_count": 32,
   "metadata": {},
   "outputs": [],
   "source": [
    "res = requests.get(url)"
   ]
  },
  {
   "cell_type": "code",
   "execution_count": 33,
   "metadata": {},
   "outputs": [
    {
     "name": "stdout",
     "output_type": "stream",
     "text": [
      "200\n"
     ]
    }
   ],
   "source": [
    "print(res.status_code)"
   ]
  },
  {
   "cell_type": "code",
   "execution_count": 34,
   "metadata": {},
   "outputs": [
    {
     "name": "stdout",
     "output_type": "stream",
     "text": [
      "{'Date': 'Sun, 10 May 2020 22:36:33 GMT', 'Expires': '-1', 'Cache-Control': 'private, max-age=0', 'Content-Type': 'text/html; charset=ISO-8859-1', 'P3P': 'CP=\"This is not a P3P policy! See g.co/p3phelp for more info.\"', 'Content-Encoding': 'gzip', 'Server': 'gws', 'Content-Length': '5257', 'X-XSS-Protection': '0', 'X-Frame-Options': 'SAMEORIGIN', 'Set-Cookie': '1P_JAR=2020-05-10-22; expires=Tue, 09-Jun-2020 22:36:33 GMT; path=/; domain=.google.com; Secure, NID=204=R6Zg9oNvrSypPw9Pe_yuWFwPXmi_ChMKGE_wdpH3Ml1YzZJbIvDgB5fUOXNKWTSy2b6lfNXVaE7F7Cktj6ToOFzBr4VulPqaMp-WXu3Peq3SPOcVLmPpS9yI3zuehbXwNRshrtw2qlVKr6sw7wAi84dBEKrZiRZEV4YtB7t_s_w; expires=Mon, 09-Nov-2020 22:36:33 GMT; path=/; domain=.google.com; HttpOnly'}\n"
     ]
    }
   ],
   "source": [
    "print(res.headers)"
   ]
  },
  {
   "cell_type": "code",
   "execution_count": 35,
   "metadata": {},
   "outputs": [],
   "source": [
    "with open('google.html', 'w') as f:\n",
    "    f.write(res.text)"
   ]
  },
  {
   "cell_type": "markdown",
   "metadata": {},
   "source": [
    "______________"
   ]
  },
  {
   "cell_type": "markdown",
   "metadata": {},
   "source": [
    "# Time"
   ]
  },
  {
   "cell_type": "code",
   "execution_count": 6,
   "metadata": {},
   "outputs": [],
   "source": [
    "import threading\n",
    "import requests\n",
    "import time"
   ]
  },
  {
   "cell_type": "code",
   "execution_count": 7,
   "metadata": {},
   "outputs": [],
   "source": [
    "def ping(url):\n",
    "    res = requests.get(url)\n",
    "    print(f'{url}: {res.text}')"
   ]
  },
  {
   "cell_type": "code",
   "execution_count": 8,
   "metadata": {},
   "outputs": [],
   "source": [
    "urls = [\n",
    "    'http://httpstat.us/200',\n",
    "    'http://httpstat.us/400',\n",
    "    'http://httpstat.us/404',\n",
    "    'http://httpstat.us/408',\n",
    "    'http://httpstat.us/500',\n",
    "    'http://httpstat.us/524'\n",
    "]"
   ]
  },
  {
   "cell_type": "code",
   "execution_count": 9,
   "metadata": {},
   "outputs": [
    {
     "name": "stdout",
     "output_type": "stream",
     "text": [
      "http://httpstat.us/200: 200 OK\n",
      "http://httpstat.us/400: 400 Bad Request\n",
      "http://httpstat.us/404: 404 Not Found\n",
      "http://httpstat.us/408: 408 Request Timeout\n",
      "http://httpstat.us/500: 500 Internal Server Error\n",
      "http://httpstat.us/524: 524 A timeout occurred\n",
      "Sequential:  3.35 seconds\n"
     ]
    }
   ],
   "source": [
    "start = time.time()\n",
    "for url in urls:\n",
    "    ping(url)\n",
    "print(f'Sequential: {time.time() - start : .2f} seconds')"
   ]
  },
  {
   "cell_type": "code",
   "execution_count": 10,
   "metadata": {},
   "outputs": [
    {
     "name": "stdout",
     "output_type": "stream",
     "text": [
      "http://httpstat.us/200: 200 OK\n",
      "http://httpstat.us/408: 408 Request Timeout\n",
      "http://httpstat.us/404: 404 Not Foundhttp://httpstat.us/524: 524 A timeout occurred\n",
      "http://httpstat.us/400: 400 Bad Request\n",
      "http://httpstat.us/500: 500 Internal Server Error\n",
      "\n",
      "Threading:  0.48 seconds\n"
     ]
    }
   ],
   "source": [
    "start = time.time()\n",
    "threads = []\n",
    "for url in urls:\n",
    "    thread = threading.Thread(target=ping, args=(url,))\n",
    "    threads.append(thread)\n",
    "    thread.start()\n",
    "for thread in threads:\n",
    "    thread.join()\n",
    "\n",
    "print(f'Threading: {time.time() - start : .2f} seconds')"
   ]
  },
  {
   "cell_type": "markdown",
   "metadata": {},
   "source": [
    "______________________________"
   ]
  },
  {
   "cell_type": "code",
   "execution_count": 42,
   "metadata": {},
   "outputs": [],
   "source": [
    "import threading\n",
    "import requests"
   ]
  },
  {
   "cell_type": "code",
   "execution_count": 43,
   "metadata": {},
   "outputs": [],
   "source": [
    "class MyThread(threading.Thread):\n",
    "    def __init__(self, url):\n",
    "        threading.Thread.__init__(self)\n",
    "        self.url = url\n",
    "        self.result = None\n",
    "\n",
    "    def run(self):\n",
    "        res = requests.get(self.url)\n",
    "        self.result = f'{self.url}: {res.text}'"
   ]
  },
  {
   "cell_type": "code",
   "execution_count": 44,
   "metadata": {},
   "outputs": [],
   "source": [
    "urls = [\n",
    "    'http://httpstat.us/200',\n",
    "    'http://httpstat.us/200?sleep=20000',\n",
    "    'http://httpstat.us/400'\n",
    "]"
   ]
  },
  {
   "cell_type": "code",
   "execution_count": 45,
   "metadata": {},
   "outputs": [
    {
     "name": "stdout",
     "output_type": "stream",
     "text": [
      "http://httpstat.us/200: 200 OK\n",
      "http://httpstat.us/200?sleep=20000: 200 OK\n",
      "http://httpstat.us/400: 400 Bad Request\n"
     ]
    }
   ],
   "source": [
    "threads = [MyThread(url) for url in urls]\n",
    "for thread in threads:\n",
    "    thread.start()\n",
    "for thread in threads:\n",
    "    thread.join()\n",
    "for thread in threads:\n",
    "    print(thread.result)"
   ]
  },
  {
   "cell_type": "code",
   "execution_count": null,
   "metadata": {},
   "outputs": [],
   "source": []
  }
 ],
 "metadata": {
  "kernelspec": {
   "display_name": "Python 3.7.3 64-bit ('austral': conda)",
   "language": "python",
   "name": "python37364bitaustralconda150e222f1b634d60a956e102dfbc2d5f"
  },
  "language_info": {
   "codemirror_mode": {
    "name": "ipython",
    "version": 3
   },
   "file_extension": ".py",
   "mimetype": "text/x-python",
   "name": "python",
   "nbconvert_exporter": "python",
   "pygments_lexer": "ipython3",
   "version": "3.7.3"
  }
 },
 "nbformat": 4,
 "nbformat_minor": 4
}
